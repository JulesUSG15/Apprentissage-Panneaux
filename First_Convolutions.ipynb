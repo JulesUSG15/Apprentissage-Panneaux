{
 "cells": [
  {
   "cell_type": "markdown",
   "metadata": {},
   "source": [
    "# First convolutions\n",
    "\n",
    "## Objectives :\n",
    "  - Recognizing traffic signs \n",
    "  - Understand the **principles** and **architecture** of a **convolutional neural network** for image classification\n",
    "  \n",
    "The German Traffic Sign Recognition Benchmark (GTSRB) is a dataset with more than 50,000 photos of road signs from about 40 classes.  \n",
    "The final aim is to recognise them ! "
   ]
  },
  {
   "cell_type": "markdown",
   "metadata": {},
   "source": [
    "# Step 1 - Import and init"
   ]
  },
  {
   "cell_type": "markdown",
   "metadata": {},
   "source": [
    "## 1.1 - Python stuff"
   ]
  },
  {
   "cell_type": "code",
   "execution_count": 3,
   "metadata": {},
   "outputs": [],
   "source": [
    "import os\n",
    "os.environ['KERAS_BACKEND'] = 'torch'\n",
    "\n",
    "import keras\n",
    "\n",
    "import numpy as np\n",
    "import matplotlib.pyplot as plt\n",
    "import h5py\n",
    "import os,time,sys\n",
    "\n",
    "from importlib import reload\n",
    "\n",
    "from sklearn.utils import shuffle"
   ]
  },
  {
   "cell_type": "markdown",
   "metadata": {},
   "source": [
    "### 1.2 - Parameters\n",
    "`scale` is the proportion of the dataset that will be used during the training. (1 mean 100%)  \n",
    "A 20% 24x24 dataset, with 5 epochs and a scale of 1, need  **3'30** on a CPU laptop.\\\n",
    "`fit_verbosity` is the verbosity during training : 0 = silent, 1 = progress bar, 2 = one line per epoch"
   ]
  },
  {
   "cell_type": "code",
   "execution_count": 4,
   "metadata": {},
   "outputs": [],
   "source": [
    "enhanced_dir = './data'\n",
    "# enhanced_dir = f'{datasets_dir}/GTSRB/enhanced'\n",
    "\n",
    "dataset_name  = 'set-24x24-L'\n",
    "batch_size    = 64\n",
    "epochs        = 5\n",
    "scale         = 1\n",
    "fit_verbosity = 1"
   ]
  },
  {
   "cell_type": "markdown",
   "metadata": {},
   "source": [
    "Override parameters (batch mode) - Just forget this cell"
   ]
  },
  {
   "cell_type": "code",
   "execution_count": null,
   "metadata": {},
   "outputs": [],
   "source": []
  },
  {
   "cell_type": "markdown",
   "metadata": {},
   "source": [
    "## Step 2 - Load dataset\n",
    "We're going to retrieve a previously recorded dataset.  \n",
    "For example: set-24x24-L"
   ]
  },
  {
   "cell_type": "code",
   "execution_count": 5,
   "metadata": {},
   "outputs": [],
   "source": [
    "def rescale_dataset(x_train, y_train, x_test, y_test, scale=1):\n",
    "    n_train = int(len(x_train) * scale)\n",
    "    n_test = int(len(x_test) * scale)\n",
    "\n",
    "    return x_train[:n_train], y_train[:n_train], x_test[:n_test], y_test[:n_test]"
   ]
  },
  {
   "cell_type": "code",
   "execution_count": 6,
   "metadata": {},
   "outputs": [
    {
     "name": "stdout",
     "output_type": "stream",
     "text": [
      "Original shape : (7841, 24, 24, 1) (7841,)\n",
      "Rescaled shape : (7841, 24, 24, 1) (7841,)\n",
      "\n",
      "Dataset \"set-24x24-L\" is loaded and shuffled. (24270160 bytes in 0.04 seconds)\n"
     ]
    }
   ],
   "source": [
    "def read_dataset(enhanced_dir, dataset_name, scale=1):\n",
    "    '''\n",
    "    Reads h5 dataset\n",
    "    Args:\n",
    "        filename     : datasets filename\n",
    "        dataset_name : dataset name, without .h5\n",
    "    Returns:    \n",
    "        x_train,y_train, x_test,y_test data, x_meta,y_meta\n",
    "    '''\n",
    "    \n",
    "    start_time = time.time()\n",
    "\n",
    "    filename = f'{enhanced_dir}/{dataset_name}.h5'\n",
    "    with h5py.File(filename, 'r') as f:\n",
    "        x_train = f['x_train'][:]\n",
    "        y_train = f['y_train'][:]\n",
    "        x_test = f['x_test'][:]\n",
    "        y_test = f['y_test'][:]\n",
    "        x_meta = f['x_meta'][:]\n",
    "        y_meta = f['y_meta'][:]\n",
    "\n",
    "    print('Original shape :', x_train.shape, y_train.shape)\n",
    "    x_train, y_train, x_test, y_test = rescale_dataset(x_train, y_train, x_test, y_test, scale=scale)\n",
    "    print('Rescaled shape :', x_train.shape, y_train.shape)\n",
    "\n",
    "    x_train, y_train = shuffle(x_train, y_train, random_state=42)\n",
    "\n",
    "    duration = time.time() - start_time\n",
    "    size = os.path.getsize(filename)\n",
    "    print(f'\\nDataset \"{dataset_name}\" is loaded and shuffled. ({size} bytes in {duration:.2f} seconds)')\n",
    "    return x_train, y_train, x_test, y_test, x_meta, y_meta\n",
    "\n",
    "\n",
    "# ---- Read dataset\n",
    "#\n",
    "x_train,y_train,x_test,y_test, x_meta,y_meta = read_dataset(enhanced_dir, dataset_name, scale)"
   ]
  },
  {
   "cell_type": "markdown",
   "metadata": {},
   "source": [
    "## Step 3 - Have a look to the dataset\n",
    "We take a quick look as we go by..."
   ]
  },
  {
   "cell_type": "code",
   "execution_count": null,
   "metadata": {},
   "outputs": [],
   "source": [
    "import matplotlib.pyplot as plt\n",
    "\n",
    "def display_and_save_images(images, labels, indices, columns, x_size, y_size, save_as=None):\n",
    "    \n",
    "    rows = len(indices) // columns + (1 if len(indices) % columns else 0)\n",
    "    fig, axes = plt.subplots(rows, columns, figsize=(x_size * columns, y_size * rows))\n",
    "    axes = axes.flatten()\n",
    "\n",
    "    for ax, idx in zip(axes, indices):\n",
    "        ax.imshow(images[idx], cmap='gray', interpolation='nearest')  # Adjust colormap if needed\n",
    "        ax.set_title(f'Label: {labels[idx]}')\n",
    "        ax.axis('off')\n",
    "\n",
    "    for i in range(len(indices), len(axes)):\n",
    "        axes[i].axis('off')\n",
    "\n",
    "    plt.tight_layout()\n",
    "    if save_as:\n",
    "        plt.savefig(f'{save_as}.png', dpi=300)\n",
    "    plt.show()\n"
   ]
  }
 ],
 "metadata": {
  "kernelspec": {
   "display_name": "base",
   "language": "python",
   "name": "python3"
  },
  "language_info": {
   "codemirror_mode": {
    "name": "ipython",
    "version": 3
   },
   "file_extension": ".py",
   "mimetype": "text/x-python",
   "name": "python",
   "nbconvert_exporter": "python",
   "pygments_lexer": "ipython3",
   "version": "3.11.4"
  }
 },
 "nbformat": 4,
 "nbformat_minor": 2
}
